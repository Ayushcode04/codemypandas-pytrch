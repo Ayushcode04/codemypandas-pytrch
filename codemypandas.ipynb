{
  "nbformat": 4,
  "nbformat_minor": 0,
  "metadata": {
    "colab": {
      "provenance": [],
      "authorship_tag": "ABX9TyPievjGRhtbVCv7Cm38sH3l",
      "include_colab_link": true
    },
    "kernelspec": {
      "name": "python3",
      "display_name": "Python 3"
    },
    "language_info": {
      "name": "python"
    }
  },
  "cells": [
    {
      "cell_type": "markdown",
      "metadata": {
        "id": "view-in-github",
        "colab_type": "text"
      },
      "source": [
        "<a href=\"https://colab.research.google.com/github/Ayushcode04/pandasbycodemy/blob/main/codemypandas.ipynb\" target=\"_parent\"><img src=\"https://colab.research.google.com/assets/colab-badge.svg\" alt=\"Open In Colab\"/></a>"
      ]
    },
    {
      "cell_type": "code",
      "source": [
        "import pandas as pd\n",
        "import numpy as np\n",
        "from numpy.random import randn\n",
        "%matplotlib inline\n",
        "from sklearn.datasets import load_diabetes"
      ],
      "metadata": {
        "id": "nI_GT7FlHEvx"
      },
      "execution_count": null,
      "outputs": []
    },
    {
      "cell_type": "markdown",
      "source": [
        "# ***Pandas Series***"
      ],
      "metadata": {
        "id": "HJLi1NF1K44D"
      }
    },
    {
      "cell_type": "code",
      "source": [
        "my_series =[5,9,12,27]\n",
        "my_var =pd.Series(my_series)\n",
        "my_var"
      ],
      "metadata": {
        "id": "fnGhodFlHMRI"
      },
      "execution_count": null,
      "outputs": []
    },
    {
      "cell_type": "code",
      "source": [
        "my_var[2]"
      ],
      "metadata": {
        "id": "MoexJ6xKIMBG"
      },
      "execution_count": null,
      "outputs": []
    },
    {
      "cell_type": "code",
      "source": [
        "my_index=[\"A\",\"B\",\"C\",\"Z\"]\n",
        "my_var2=pd.Series(my_series,my_index)\n",
        "my_var2"
      ],
      "metadata": {
        "id": "StuKoQSvIXmQ"
      },
      "execution_count": null,
      "outputs": []
    },
    {
      "cell_type": "code",
      "source": [
        "my_var2[\"C\"]"
      ],
      "metadata": {
        "id": "7DY1D2G1ImUX"
      },
      "execution_count": null,
      "outputs": []
    },
    {
      "cell_type": "code",
      "source": [
        "cars={\"Tesla\":12,\"Toyota\":42,\"Bugatti\":3}\n",
        "my_var3=pd.Series(cars)\n",
        "my_var3"
      ],
      "metadata": {
        "id": "m427g4LBJi-3"
      },
      "execution_count": null,
      "outputs": []
    },
    {
      "cell_type": "code",
      "source": [
        "my_var3[\"Tesla\"]"
      ],
      "metadata": {
        "id": "TabYECkYKsIc"
      },
      "execution_count": null,
      "outputs": []
    },
    {
      "cell_type": "markdown",
      "source": [
        "# ***Panda Dataframe***"
      ],
      "metadata": {
        "id": "TPtsyYv4LHJZ"
      }
    },
    {
      "cell_type": "code",
      "source": [
        "my_data = randn(4,3)\n",
        "my_rows =[\"A\",\"B\",\"C\",\"D\"]\n",
        "my_cols=[\"Monday\",\"Tuesday\",\"Friday\"]"
      ],
      "metadata": {
        "id": "BuFVvbk6K1aF"
      },
      "execution_count": null,
      "outputs": []
    },
    {
      "cell_type": "code",
      "source": [
        "my_df2 =pd.DataFrame(my_data,my_rows,my_cols)\n",
        "my_df2"
      ],
      "metadata": {
        "id": "OjsKdmNpL-PL"
      },
      "execution_count": null,
      "outputs": []
    },
    {
      "cell_type": "code",
      "source": [
        "my_df = pd.read_csv('/content/dog_data.csv')"
      ],
      "metadata": {
        "id": "ojnyQ3uBMXBC"
      },
      "execution_count": null,
      "outputs": []
    },
    {
      "cell_type": "markdown",
      "source": [
        "# ***Data***"
      ],
      "metadata": {
        "id": "WwvlzSJDSemI"
      }
    },
    {
      "cell_type": "code",
      "source": [
        "my_df"
      ],
      "metadata": {
        "id": "8X9moXG0NbUe"
      },
      "execution_count": null,
      "outputs": []
    },
    {
      "cell_type": "code",
      "source": [
        "my_df.loc[0]"
      ],
      "metadata": {
        "id": "CdnnkGo5Nd2D"
      },
      "execution_count": null,
      "outputs": []
    },
    {
      "cell_type": "code",
      "source": [
        "my_df.loc[[0,5]]"
      ],
      "metadata": {
        "id": "pyVBZLrqN3Kj"
      },
      "execution_count": null,
      "outputs": []
    },
    {
      "cell_type": "code",
      "source": [
        "my_df.head()\n"
      ],
      "metadata": {
        "id": "UrIRsI1YN-lf"
      },
      "execution_count": null,
      "outputs": []
    },
    {
      "cell_type": "code",
      "source": [
        "my_df.tail()\n"
      ],
      "metadata": {
        "id": "8hUEXYHfMJOM"
      },
      "execution_count": null,
      "outputs": []
    },
    {
      "cell_type": "code",
      "source": [
        "my_df.tail(8)"
      ],
      "metadata": {
        "id": "fCSlC4R2M3is"
      },
      "execution_count": null,
      "outputs": []
    },
    {
      "cell_type": "code",
      "source": [
        "my_df.info()"
      ],
      "metadata": {
        "id": "9EllPn62M6dC"
      },
      "execution_count": null,
      "outputs": []
    },
    {
      "cell_type": "code",
      "source": [
        "my_df.shape\n"
      ],
      "metadata": {
        "id": "AyuXZYF9NawS"
      },
      "execution_count": null,
      "outputs": []
    },
    {
      "cell_type": "code",
      "source": [
        "my_df.ndim"
      ],
      "metadata": {
        "id": "tHIkACUxNt6d"
      },
      "execution_count": null,
      "outputs": []
    },
    {
      "cell_type": "code",
      "source": [
        "my_df.dtypes"
      ],
      "metadata": {
        "id": "FxjbSsGtNwed"
      },
      "execution_count": null,
      "outputs": []
    },
    {
      "cell_type": "code",
      "source": [
        "my_df.describe()"
      ],
      "metadata": {
        "id": "F0V_t95qN1xc"
      },
      "execution_count": null,
      "outputs": []
    },
    {
      "cell_type": "code",
      "source": [
        "my_df['Color'].describe()"
      ],
      "metadata": {
        "id": "GU0_qnSFN8h4"
      },
      "execution_count": null,
      "outputs": []
    },
    {
      "cell_type": "code",
      "source": [
        "my_df['Breed'].describe()"
      ],
      "metadata": {
        "id": "pZLjke6oOOJ6"
      },
      "execution_count": null,
      "outputs": []
    },
    {
      "cell_type": "code",
      "source": [
        "my_df['DogName'].describe()"
      ],
      "metadata": {
        "id": "Ipd3tiVYOlRB"
      },
      "execution_count": null,
      "outputs": []
    },
    {
      "cell_type": "code",
      "source": [
        "my_df[\"DogName\"]"
      ],
      "metadata": {
        "id": "qyA3JqkMOoyX"
      },
      "execution_count": null,
      "outputs": []
    },
    {
      "cell_type": "code",
      "source": [
        "my_df.DogName"
      ],
      "metadata": {
        "id": "mW-kCcllO4mE"
      },
      "execution_count": null,
      "outputs": []
    },
    {
      "cell_type": "code",
      "source": [
        "my_df.iloc[:,0]"
      ],
      "metadata": {
        "id": "komp_sBHPKAs"
      },
      "execution_count": null,
      "outputs": []
    },
    {
      "cell_type": "code",
      "source": [
        "my_df.iloc[:,1]"
      ],
      "metadata": {
        "id": "qW1L6AWTPQ82"
      },
      "execution_count": null,
      "outputs": []
    },
    {
      "cell_type": "code",
      "source": [
        "my_df.iloc[:,2]"
      ],
      "metadata": {
        "id": "lDxC8ZTUPfTf"
      },
      "execution_count": null,
      "outputs": []
    },
    {
      "cell_type": "markdown",
      "source": [
        "# ***count Data***"
      ],
      "metadata": {
        "id": "Sgl-QZhwRXzU"
      }
    },
    {
      "cell_type": "code",
      "source": [
        "my_df['Color'].value_counts()"
      ],
      "metadata": {
        "id": "m0fswF9gPiD8"
      },
      "execution_count": null,
      "outputs": []
    },
    {
      "cell_type": "code",
      "source": [
        "my_df['Color'].value_counts(ascending=True)"
      ],
      "metadata": {
        "id": "Z6I5WFPoQgSR"
      },
      "execution_count": null,
      "outputs": []
    },
    {
      "cell_type": "code",
      "source": [
        "my_df['DogName'].value_counts(dropna=False)"
      ],
      "metadata": {
        "id": "3CXSAweiQx5T"
      },
      "execution_count": null,
      "outputs": []
    },
    {
      "cell_type": "code",
      "source": [
        "my_df3=pd.read_csv('/content/dog_datashort.csv')"
      ],
      "metadata": {
        "id": "XpjYOSbLTUfo"
      },
      "execution_count": null,
      "outputs": []
    },
    {
      "cell_type": "markdown",
      "source": [
        "# ***Data***"
      ],
      "metadata": {
        "id": "yrabZ94uSYTs"
      }
    },
    {
      "cell_type": "code",
      "source": [
        "my_df3['DogName'].value_counts(dropna=False)"
      ],
      "metadata": {
        "id": "s0QMB6HmTb6M"
      },
      "execution_count": null,
      "outputs": []
    },
    {
      "cell_type": "code",
      "source": [
        "my_df['Color'].value_counts(normalize=True)"
      ],
      "metadata": {
        "id": "McOHwBbDTsSl"
      },
      "execution_count": null,
      "outputs": []
    },
    {
      "cell_type": "code",
      "source": [
        "my_df['Color'].value_counts()['WHITE']"
      ],
      "metadata": {
        "id": "3t5Hn3ylUM2j"
      },
      "execution_count": null,
      "outputs": []
    },
    {
      "cell_type": "code",
      "source": [
        "my_df.groupby('Color').size()"
      ],
      "metadata": {
        "id": "phGgumr2tIVk"
      },
      "execution_count": null,
      "outputs": []
    },
    {
      "cell_type": "code",
      "source": [
        "my_df.groupby('Color').count()"
      ],
      "metadata": {
        "id": "tASYZrIjU6AN"
      },
      "execution_count": null,
      "outputs": []
    },
    {
      "cell_type": "code",
      "source": [
        "my_df3.apply(pd.value_counts)"
      ],
      "metadata": {
        "id": "Ibb0qkw1s5Dn"
      },
      "execution_count": null,
      "outputs": []
    },
    {
      "cell_type": "markdown",
      "source": [
        "# ***Add Columns***"
      ],
      "metadata": {
        "id": "ztdSdM-9uL81"
      }
    },
    {
      "cell_type": "code",
      "source": [
        "gender=[\"male\",\"female\",\"male\",\"female\",\"male\",\"female\",\"male\",\"female\",\"male\",\"female\",\"male\",\"female\",\"male\",\"female\",\"male\",\"female\",\"male\",\"female\",\"male\"]\n",
        "my_df3[\"Gender\"]=gender\n",
        "my_df3\n"
      ],
      "metadata": {
        "id": "Seat_kfUvDuL"
      },
      "execution_count": null,
      "outputs": []
    },
    {
      "cell_type": "code",
      "source": [
        "my_df3[\"Alive/Dead\"] = [True]*len(my_df3)\n",
        "my_df3"
      ],
      "metadata": {
        "id": "KJoe9vIMvr1J"
      },
      "execution_count": null,
      "outputs": []
    },
    {
      "cell_type": "code",
      "source": [
        "my_df3[\"Show Dog\"]=[np.nan]*len(my_df3)\n",
        "my_df3"
      ],
      "metadata": {
        "id": "EctFxoLgyC-c"
      },
      "execution_count": null,
      "outputs": []
    },
    {
      "cell_type": "code",
      "source": [
        "my_df3.insert(1,\"Adopted\",[True]*len(my_df3),True)\n",
        "my_df3"
      ],
      "metadata": {
        "id": "Tesimep2yzcH"
      },
      "execution_count": null,
      "outputs": []
    },
    {
      "cell_type": "code",
      "source": [
        "my_df4=my_df3.assign(Horse=[False]*len(my_df3))\n",
        "my_df4"
      ],
      "metadata": {
        "id": "KYubw31MzouC"
      },
      "execution_count": null,
      "outputs": []
    },
    {
      "cell_type": "markdown",
      "source": [
        "# ***Delete columns***"
      ],
      "metadata": {
        "id": "opZ0TYSw0_B1"
      }
    },
    {
      "cell_type": "code",
      "source": [
        "# my_df3.drop(\"Gender\",axis=1,inplace=True)"
      ],
      "metadata": {
        "id": "s0lFFZj107MG"
      },
      "execution_count": null,
      "outputs": []
    },
    {
      "cell_type": "code",
      "source": [
        "my_df3"
      ],
      "metadata": {
        "id": "cqQZLnX_p-xL"
      },
      "execution_count": null,
      "outputs": []
    },
    {
      "cell_type": "code",
      "source": [
        "my_df3.drop(3,axis=0)"
      ],
      "metadata": {
        "id": "Ih1s-MlgqUQa"
      },
      "execution_count": null,
      "outputs": []
    },
    {
      "cell_type": "markdown",
      "source": [
        "# ***Grab  row point Subset***\n"
      ],
      "metadata": {
        "id": "NK__qtHFyvIL"
      }
    },
    {
      "cell_type": "code",
      "source": [
        "my_df3.iloc[3]#index\n",
        "#my_df3.loc[2]"
      ],
      "metadata": {
        "id": "C6qVGioMzBK9"
      },
      "execution_count": null,
      "outputs": []
    },
    {
      "cell_type": "code",
      "source": [
        "#for location\n",
        "my_df3.loc[1,\"DogName\"]"
      ],
      "metadata": {
        "id": "CpXW1PCgzwjX"
      },
      "execution_count": null,
      "outputs": []
    },
    {
      "cell_type": "code",
      "source": [
        "#for subset [[row,row],[col,col]]\n",
        "my_df3.loc[[1,3,4],[\"DogName\",\"Breed\",\"Color\"]]"
      ],
      "metadata": {
        "id": "nIaPkGAj9NhP"
      },
      "execution_count": null,
      "outputs": []
    },
    {
      "cell_type": "markdown",
      "source": [
        "## ***Conditionnal Selection***"
      ],
      "metadata": {
        "id": "VyQWarSxmQ4a"
      }
    },
    {
      "cell_type": "code",
      "source": [
        "my_df ==\"BROWN\""
      ],
      "metadata": {
        "id": "tHVHITf49i_l"
      },
      "execution_count": null,
      "outputs": []
    },
    {
      "cell_type": "code",
      "source": [
        "my_df[my_df==\"BROWN\"]#Return dataframe"
      ],
      "metadata": {
        "id": "ZRfMZDeemlAb"
      },
      "execution_count": null,
      "outputs": []
    },
    {
      "cell_type": "code",
      "source": [
        "my_df[my_df==\"BROWN\"][\"Color\"]#ret col"
      ],
      "metadata": {
        "id": "PIxVHqpOnAYM"
      },
      "execution_count": null,
      "outputs": []
    },
    {
      "cell_type": "code",
      "source": [
        "#multiple col\n",
        "my_df[my_df==\"BROWN\"][[\"Color\",\"Breed\"]]"
      ],
      "metadata": {
        "id": "8Ht9w8-cnL-W"
      },
      "execution_count": null,
      "outputs": []
    },
    {
      "cell_type": "markdown",
      "source": [
        "# ***Multiple Condition***"
      ],
      "metadata": {
        "id": "EGqa0mvAoFaW"
      }
    },
    {
      "cell_type": "code",
      "source": [
        "#AND\n",
        "my_df[(my_df[\"Color\"]==\"BROWN\")&(my_df[\"Breed\"]==\"MIXED\")]"
      ],
      "metadata": {
        "id": "Km6p9-3YnXxs"
      },
      "execution_count": null,
      "outputs": []
    },
    {
      "cell_type": "code",
      "source": [
        "#get len\n",
        "len(my_df[(my_df[\"Color\"]==\"BROWN\")&(my_df[\"Breed\"]==\"MIXED\")])"
      ],
      "metadata": {
        "id": "QtfXLUwfoSRr"
      },
      "execution_count": null,
      "outputs": []
    },
    {
      "cell_type": "code",
      "source": [
        "my_df[(my_df[\"Color\"]==\"BROWN\")|(my_df[\"Breed\"]==\"MIXED\")]"
      ],
      "metadata": {
        "id": "mN8Mq1ZCpQF3"
      },
      "execution_count": null,
      "outputs": []
    },
    {
      "cell_type": "code",
      "source": [
        "#ret specefic col\n",
        "my_df[(my_df[\"Color\"]==\"BROWN\")&(my_df[\"Breed\"]==\"MIXED\")][\"DogName\"]"
      ],
      "metadata": {
        "id": "qUgPYu02pjig"
      },
      "execution_count": null,
      "outputs": []
    },
    {
      "cell_type": "markdown",
      "source": [
        "# Reset Index\n",
        "\n"
      ],
      "metadata": {
        "id": "kJTaZshiqEZj"
      }
    },
    {
      "cell_type": "code",
      "source": [
        "my_df4=pd.read_csv(\"/content/dog_data_5short.csv\")"
      ],
      "metadata": {
        "id": "x-wppDUZsPPd"
      },
      "execution_count": null,
      "outputs": []
    },
    {
      "cell_type": "markdown",
      "source": [
        "# ***Data***"
      ],
      "metadata": {
        "id": "u_ZvXuaaSRMb"
      }
    },
    {
      "cell_type": "code",
      "source": [
        "#Create Col\n",
        "my_df4[\"Frame Header\"]=[\"Dog1\",\"Dog2\",\"Dog3\",\"Dog4\",\"Dog5\"]\n",
        "my_df4"
      ],
      "metadata": {
        "id": "tkQLESeep0_h"
      },
      "execution_count": null,
      "outputs": []
    },
    {
      "cell_type": "code",
      "source": [
        "my_df4.set_index(\"Frame Header\",inplace=True)"
      ],
      "metadata": {
        "id": "IpBUtrE6smkm"
      },
      "execution_count": null,
      "outputs": []
    },
    {
      "cell_type": "code",
      "source": [
        "my_df4"
      ],
      "metadata": {
        "id": "kl1nPg_Ttxj7"
      },
      "execution_count": null,
      "outputs": []
    },
    {
      "cell_type": "code",
      "source": [
        "#reset index\n",
        "my_df4.reset_index(inplace=True)"
      ],
      "metadata": {
        "id": "W5lUnJtzuCaw"
      },
      "execution_count": null,
      "outputs": []
    },
    {
      "cell_type": "code",
      "source": [
        "my_df4"
      ],
      "metadata": {
        "id": "5Lfb2YZZuRsi"
      },
      "execution_count": null,
      "outputs": []
    },
    {
      "cell_type": "code",
      "source": [
        "#Drop col\n",
        "#my_df4.drop(\"Frame Header\",axis=1,inplace=True)\n"
      ],
      "metadata": {
        "id": "W_VOiIBIuaOF"
      },
      "execution_count": null,
      "outputs": []
    },
    {
      "cell_type": "code",
      "source": [
        "my_df4"
      ],
      "metadata": {
        "id": "mg_5_8YIus0U"
      },
      "execution_count": null,
      "outputs": []
    },
    {
      "cell_type": "markdown",
      "source": [
        "# **Incomplete**"
      ],
      "metadata": {
        "id": "7e1PBlb0vq0f"
      }
    },
    {
      "cell_type": "code",
      "source": [
        "stuff={\"A\":[1,2,3],\"B\":[4,np.nan,6],\"C\":[7,8,9],\"D\":[10,11,12]}\n",
        "my_df5=pd.DataFrame(stuff)\n",
        "my_df5"
      ],
      "metadata": {
        "id": "OKQLXP1yvPC4"
      },
      "execution_count": null,
      "outputs": []
    },
    {
      "cell_type": "code",
      "source": [
        "#drop null\n",
        "my_df5.dropna()"
      ],
      "metadata": {
        "id": "uxsnfi_JwR7m"
      },
      "execution_count": null,
      "outputs": []
    },
    {
      "cell_type": "code",
      "source": [
        "#drop null col#use inplace for permanent\n",
        "my_df5.dropna(axis=1)"
      ],
      "metadata": {
        "id": "PK5opuPywwIl"
      },
      "execution_count": null,
      "outputs": []
    },
    {
      "cell_type": "code",
      "source": [
        "#for threshold\n",
        "my_df5.dropna(thresh=2,axis=1)"
      ],
      "metadata": {
        "id": "oXQVAw9mw2XA"
      },
      "execution_count": null,
      "outputs": []
    },
    {
      "cell_type": "code",
      "source": [
        "#replace with fillna\n",
        "my_df5.fillna(value=99)"
      ],
      "metadata": {
        "id": "bHB5G5Pyxzmd"
      },
      "execution_count": null,
      "outputs": []
    },
    {
      "cell_type": "code",
      "source": [
        "#use more fn\n",
        "my_df5.fillna(value=my_df5['B'].mean())"
      ],
      "metadata": {
        "id": "Wqpx09pOyaew"
      },
      "execution_count": null,
      "outputs": []
    },
    {
      "cell_type": "code",
      "source": [
        "my_df5.fillna(value=my_df5['B'].min())"
      ],
      "metadata": {
        "id": "q5XkytV7ye8T"
      },
      "execution_count": null,
      "outputs": []
    },
    {
      "cell_type": "code",
      "source": [
        "my_df5.fillna(value=my_df5['B'].sum())"
      ],
      "metadata": {
        "id": "gT0bDjDky1sH"
      },
      "execution_count": null,
      "outputs": []
    },
    {
      "cell_type": "markdown",
      "source": [
        "## **Group By**"
      ],
      "metadata": {
        "id": "lVZ1JoOPzERL"
      }
    },
    {
      "cell_type": "code",
      "source": [
        "stuff = {\n",
        "    'Corporation':['Apple', 'Google', 'Meta', 'Apple', 'Google','Meta'],\n",
        "    'Employees':['John', 'April', 'Wes', 'Beth', 'Justin', 'Steph'],\n",
        "    'Salary':[200, 220, 190, 130, 120, 150]}\n",
        "my_df6 = pd.DataFrame(stuff)\n",
        "my_df6"
      ],
      "metadata": {
        "id": "RoIZEIZ4y9pv"
      },
      "execution_count": null,
      "outputs": []
    },
    {
      "cell_type": "markdown",
      "source": [
        "# ***Data***"
      ],
      "metadata": {
        "id": "5jd2gzoTX-K1"
      }
    },
    {
      "cell_type": "code",
      "source": [
        "#group by\n",
        "company=my_df6.groupby('Corporation')\n",
        "company"
      ],
      "metadata": {
        "id": "fDa-VjJEzkE2"
      },
      "execution_count": null,
      "outputs": []
    },
    {
      "cell_type": "code",
      "source": [
        "company.sum()"
      ],
      "metadata": {
        "id": "rlx3eNRg0Egn"
      },
      "execution_count": null,
      "outputs": []
    },
    {
      "cell_type": "code",
      "source": [
        "#mean\n",
        "company.mean()"
      ],
      "metadata": {
        "id": "IHXw4zod0U4C"
      },
      "execution_count": null,
      "outputs": []
    },
    {
      "cell_type": "code",
      "source": [
        "company.min()"
      ],
      "metadata": {
        "id": "Z25lxXPj0lB9"
      },
      "execution_count": null,
      "outputs": []
    },
    {
      "cell_type": "code",
      "source": [
        "company.std()"
      ],
      "metadata": {
        "id": "wrNERSh8RtGd"
      },
      "execution_count": null,
      "outputs": []
    },
    {
      "cell_type": "code",
      "source": [
        "# company.var()\n",
        "company.count()"
      ],
      "metadata": {
        "id": "wrpSpB7XR1AS"
      },
      "execution_count": null,
      "outputs": []
    },
    {
      "cell_type": "markdown",
      "source": [
        "# ***Unique***"
      ],
      "metadata": {
        "id": "qjwTlwcISDLl"
      }
    },
    {
      "cell_type": "code",
      "source": [
        "my_df[\"DogName\"].value_counts()\n",
        "pd.DataFrame(my_df[\"DogName\"].value_counts()).head(50)"
      ],
      "metadata": {
        "id": "5zqUxm4hR7Nv"
      },
      "execution_count": null,
      "outputs": []
    },
    {
      "cell_type": "code",
      "source": [
        "my_df[\"DogName\"].unique()"
      ],
      "metadata": {
        "id": "cLgt3O-eSs31"
      },
      "execution_count": null,
      "outputs": []
    },
    {
      "cell_type": "code",
      "source": [
        "pd.DataFrame(my_df[\"DogName\"].unique()).head(50)\n"
      ],
      "metadata": {
        "id": "5LUaHYfkTVKs"
      },
      "execution_count": null,
      "outputs": []
    },
    {
      "cell_type": "markdown",
      "source": [
        "# ***Apply***"
      ],
      "metadata": {
        "id": "u5dE3RBFT9dF"
      }
    },
    {
      "cell_type": "code",
      "source": [
        "# create fn\n",
        "def times10(x):\n",
        "  return format(x*1000, \",d\")"
      ],
      "metadata": {
        "id": "JtCjjt3bTc9Y"
      },
      "execution_count": null,
      "outputs": []
    },
    {
      "cell_type": "code",
      "source": [
        "# apply fn\n",
        "my_df6[\"Salary\"].apply(times10)"
      ],
      "metadata": {
        "id": "JdQT3gItUnd8"
      },
      "execution_count": null,
      "outputs": []
    },
    {
      "cell_type": "code",
      "source": [
        "pd.DataFrame(my_df6[\"Salary\"].apply(times1000))"
      ],
      "metadata": {
        "id": "p8yEqrlyUyoz"
      },
      "execution_count": null,
      "outputs": []
    },
    {
      "cell_type": "code",
      "source": [
        "def namer(x):\n",
        "  if x==\"John\":\n",
        "    return \"John Elder\"\n",
        "  else:\n",
        "    return \"Not Imp\""
      ],
      "metadata": {
        "id": "ZmiOdia4VYaC"
      },
      "execution_count": null,
      "outputs": []
    },
    {
      "cell_type": "code",
      "source": [
        "pd.DataFrame(my_df6[\"Employees\"].apply(namer))"
      ],
      "metadata": {
        "id": "b7lGsrbAVrr3"
      },
      "execution_count": null,
      "outputs": []
    },
    {
      "cell_type": "code",
      "source": [
        "pd.DataFrame(my_df6[\"Salary\"].apply(lambda x:format(x*1000,\",d\")))"
      ],
      "metadata": {
        "id": "TEJbbZO7V41o"
      },
      "execution_count": null,
      "outputs": []
    },
    {
      "cell_type": "markdown",
      "source": [
        "# ***Apply Multiple***"
      ],
      "metadata": {
        "id": "b2h_-2LTW4RW"
      }
    },
    {
      "cell_type": "code",
      "source": [
        "my_df6[\"Salary\"]=my_df6[\"Salary\"].apply(times10)\n",
        "my_df6"
      ],
      "metadata": {
        "id": "oORbDTFVWXhK"
      },
      "execution_count": null,
      "outputs": []
    },
    {
      "cell_type": "code",
      "source": [
        "# fn on multiple col\n",
        "def name(x):\n",
        "  return \"Codemy: \"+x"
      ],
      "metadata": {
        "id": "VgAUzSc9XdVp"
      },
      "execution_count": null,
      "outputs": []
    },
    {
      "cell_type": "code",
      "source": [
        "my_df6[[\"Corporation\",\"Employees\"]].apply(name)"
      ],
      "metadata": {
        "id": "sUpca6e7YFtI"
      },
      "execution_count": null,
      "outputs": []
    },
    {
      "cell_type": "code",
      "source": [
        "my_df6[[\"Corporation\",\"Employees\"]] =my_df6[[\"Corporation\",\"Employees\"]].apply(name)\n",
        "my_df6"
      ],
      "metadata": {
        "id": "P18LQKTfZ_Vy"
      },
      "execution_count": null,
      "outputs": []
    },
    {
      "cell_type": "markdown",
      "source": [
        "# ***Sort Order***"
      ],
      "metadata": {
        "id": "D2uOEqX_as9K"
      }
    },
    {
      "cell_type": "code",
      "source": [
        "my_df6"
      ],
      "metadata": {
        "id": "bz_TE9BfaUrP"
      },
      "execution_count": null,
      "outputs": []
    },
    {
      "cell_type": "code",
      "source": [
        "my_df6.sort_values(\"Salary\")"
      ],
      "metadata": {
        "id": "pzL5c1fda0qQ"
      },
      "execution_count": null,
      "outputs": []
    },
    {
      "cell_type": "code",
      "source": [
        "my_df6.sort_values(\"Salary\",ascending=False)"
      ],
      "metadata": {
        "id": "sQkRaeTGbH0v"
      },
      "execution_count": null,
      "outputs": []
    },
    {
      "cell_type": "code",
      "source": [
        "# to make permanent\n",
        "my_df6.sort_values(\"Salary\",ascending=False,inplace=True)\n",
        "my_df6"
      ],
      "metadata": {
        "id": "C_cCrEaQbcCv"
      },
      "execution_count": null,
      "outputs": []
    },
    {
      "cell_type": "code",
      "source": [
        "# Alphabet order\n",
        "my_df6.sort_values(\"Corporation\")"
      ],
      "metadata": {
        "id": "bmfR0Rqpbjii"
      },
      "execution_count": null,
      "outputs": []
    },
    {
      "cell_type": "code",
      "source": [
        "my_df6.sort_values(\"Corporation\",ascending=False)"
      ],
      "metadata": {
        "id": "RyxRm2dqcFs8"
      },
      "execution_count": null,
      "outputs": []
    },
    {
      "cell_type": "markdown",
      "source": [
        "# ***Histogram***"
      ],
      "metadata": {
        "id": "0O2jwD3DceGr"
      }
    },
    {
      "cell_type": "code",
      "source": [
        "my_df7 =pd.DataFrame(randn(500,4),columns=[\"Mon\",\"Tues\",\"Wed\",\"Thur\"])\n",
        "my_df7"
      ],
      "metadata": {
        "id": "CFMdb7tXcPKK",
        "colab": {
          "base_uri": "https://localhost:8080/",
          "height": 423
        },
        "outputId": "5fe603ea-defd-4a3f-c1ce-bd3e41d8e52d"
      },
      "execution_count": null,
      "outputs": [
        {
          "output_type": "execute_result",
          "data": {
            "text/plain": [
              "          Mon      Tues       Wed      Thur\n",
              "0    1.495170 -0.178732 -0.203622 -1.442473\n",
              "1   -0.451400 -0.061888 -0.236684  0.430206\n",
              "2   -0.024645  0.009217  1.142180 -0.217792\n",
              "3   -0.836051 -0.716237  1.007893  0.931077\n",
              "4    1.206486 -0.610751 -2.023045  0.867589\n",
              "..        ...       ...       ...       ...\n",
              "495  1.424315 -0.343464  0.374608  0.988303\n",
              "496 -0.240868 -0.101978  0.249355 -0.564441\n",
              "497 -0.111915  0.423782  1.202626 -0.909114\n",
              "498 -0.123229 -0.379595  0.562709 -0.802038\n",
              "499  0.253842 -0.594589 -2.835926 -1.781942\n",
              "\n",
              "[500 rows x 4 columns]"
            ],
            "text/html": [
              "\n",
              "  <div id=\"df-0fc4d3b2-c52e-460c-9c18-71eb989e0988\" class=\"colab-df-container\">\n",
              "    <div>\n",
              "<style scoped>\n",
              "    .dataframe tbody tr th:only-of-type {\n",
              "        vertical-align: middle;\n",
              "    }\n",
              "\n",
              "    .dataframe tbody tr th {\n",
              "        vertical-align: top;\n",
              "    }\n",
              "\n",
              "    .dataframe thead th {\n",
              "        text-align: right;\n",
              "    }\n",
              "</style>\n",
              "<table border=\"1\" class=\"dataframe\">\n",
              "  <thead>\n",
              "    <tr style=\"text-align: right;\">\n",
              "      <th></th>\n",
              "      <th>Mon</th>\n",
              "      <th>Tues</th>\n",
              "      <th>Wed</th>\n",
              "      <th>Thur</th>\n",
              "    </tr>\n",
              "  </thead>\n",
              "  <tbody>\n",
              "    <tr>\n",
              "      <th>0</th>\n",
              "      <td>1.495170</td>\n",
              "      <td>-0.178732</td>\n",
              "      <td>-0.203622</td>\n",
              "      <td>-1.442473</td>\n",
              "    </tr>\n",
              "    <tr>\n",
              "      <th>1</th>\n",
              "      <td>-0.451400</td>\n",
              "      <td>-0.061888</td>\n",
              "      <td>-0.236684</td>\n",
              "      <td>0.430206</td>\n",
              "    </tr>\n",
              "    <tr>\n",
              "      <th>2</th>\n",
              "      <td>-0.024645</td>\n",
              "      <td>0.009217</td>\n",
              "      <td>1.142180</td>\n",
              "      <td>-0.217792</td>\n",
              "    </tr>\n",
              "    <tr>\n",
              "      <th>3</th>\n",
              "      <td>-0.836051</td>\n",
              "      <td>-0.716237</td>\n",
              "      <td>1.007893</td>\n",
              "      <td>0.931077</td>\n",
              "    </tr>\n",
              "    <tr>\n",
              "      <th>4</th>\n",
              "      <td>1.206486</td>\n",
              "      <td>-0.610751</td>\n",
              "      <td>-2.023045</td>\n",
              "      <td>0.867589</td>\n",
              "    </tr>\n",
              "    <tr>\n",
              "      <th>...</th>\n",
              "      <td>...</td>\n",
              "      <td>...</td>\n",
              "      <td>...</td>\n",
              "      <td>...</td>\n",
              "    </tr>\n",
              "    <tr>\n",
              "      <th>495</th>\n",
              "      <td>1.424315</td>\n",
              "      <td>-0.343464</td>\n",
              "      <td>0.374608</td>\n",
              "      <td>0.988303</td>\n",
              "    </tr>\n",
              "    <tr>\n",
              "      <th>496</th>\n",
              "      <td>-0.240868</td>\n",
              "      <td>-0.101978</td>\n",
              "      <td>0.249355</td>\n",
              "      <td>-0.564441</td>\n",
              "    </tr>\n",
              "    <tr>\n",
              "      <th>497</th>\n",
              "      <td>-0.111915</td>\n",
              "      <td>0.423782</td>\n",
              "      <td>1.202626</td>\n",
              "      <td>-0.909114</td>\n",
              "    </tr>\n",
              "    <tr>\n",
              "      <th>498</th>\n",
              "      <td>-0.123229</td>\n",
              "      <td>-0.379595</td>\n",
              "      <td>0.562709</td>\n",
              "      <td>-0.802038</td>\n",
              "    </tr>\n",
              "    <tr>\n",
              "      <th>499</th>\n",
              "      <td>0.253842</td>\n",
              "      <td>-0.594589</td>\n",
              "      <td>-2.835926</td>\n",
              "      <td>-1.781942</td>\n",
              "    </tr>\n",
              "  </tbody>\n",
              "</table>\n",
              "<p>500 rows × 4 columns</p>\n",
              "</div>\n",
              "    <div class=\"colab-df-buttons\">\n",
              "\n",
              "  <div class=\"colab-df-container\">\n",
              "    <button class=\"colab-df-convert\" onclick=\"convertToInteractive('df-0fc4d3b2-c52e-460c-9c18-71eb989e0988')\"\n",
              "            title=\"Convert this dataframe to an interactive table.\"\n",
              "            style=\"display:none;\">\n",
              "\n",
              "  <svg xmlns=\"http://www.w3.org/2000/svg\" height=\"24px\" viewBox=\"0 -960 960 960\">\n",
              "    <path d=\"M120-120v-720h720v720H120Zm60-500h600v-160H180v160Zm220 220h160v-160H400v160Zm0 220h160v-160H400v160ZM180-400h160v-160H180v160Zm440 0h160v-160H620v160ZM180-180h160v-160H180v160Zm440 0h160v-160H620v160Z\"/>\n",
              "  </svg>\n",
              "    </button>\n",
              "\n",
              "  <style>\n",
              "    .colab-df-container {\n",
              "      display:flex;\n",
              "      gap: 12px;\n",
              "    }\n",
              "\n",
              "    .colab-df-convert {\n",
              "      background-color: #E8F0FE;\n",
              "      border: none;\n",
              "      border-radius: 50%;\n",
              "      cursor: pointer;\n",
              "      display: none;\n",
              "      fill: #1967D2;\n",
              "      height: 32px;\n",
              "      padding: 0 0 0 0;\n",
              "      width: 32px;\n",
              "    }\n",
              "\n",
              "    .colab-df-convert:hover {\n",
              "      background-color: #E2EBFA;\n",
              "      box-shadow: 0px 1px 2px rgba(60, 64, 67, 0.3), 0px 1px 3px 1px rgba(60, 64, 67, 0.15);\n",
              "      fill: #174EA6;\n",
              "    }\n",
              "\n",
              "    .colab-df-buttons div {\n",
              "      margin-bottom: 4px;\n",
              "    }\n",
              "\n",
              "    [theme=dark] .colab-df-convert {\n",
              "      background-color: #3B4455;\n",
              "      fill: #D2E3FC;\n",
              "    }\n",
              "\n",
              "    [theme=dark] .colab-df-convert:hover {\n",
              "      background-color: #434B5C;\n",
              "      box-shadow: 0px 1px 3px 1px rgba(0, 0, 0, 0.15);\n",
              "      filter: drop-shadow(0px 1px 2px rgba(0, 0, 0, 0.3));\n",
              "      fill: #FFFFFF;\n",
              "    }\n",
              "  </style>\n",
              "\n",
              "    <script>\n",
              "      const buttonEl =\n",
              "        document.querySelector('#df-0fc4d3b2-c52e-460c-9c18-71eb989e0988 button.colab-df-convert');\n",
              "      buttonEl.style.display =\n",
              "        google.colab.kernel.accessAllowed ? 'block' : 'none';\n",
              "\n",
              "      async function convertToInteractive(key) {\n",
              "        const element = document.querySelector('#df-0fc4d3b2-c52e-460c-9c18-71eb989e0988');\n",
              "        const dataTable =\n",
              "          await google.colab.kernel.invokeFunction('convertToInteractive',\n",
              "                                                    [key], {});\n",
              "        if (!dataTable) return;\n",
              "\n",
              "        const docLinkHtml = 'Like what you see? Visit the ' +\n",
              "          '<a target=\"_blank\" href=https://colab.research.google.com/notebooks/data_table.ipynb>data table notebook</a>'\n",
              "          + ' to learn more about interactive tables.';\n",
              "        element.innerHTML = '';\n",
              "        dataTable['output_type'] = 'display_data';\n",
              "        await google.colab.output.renderOutput(dataTable, element);\n",
              "        const docLink = document.createElement('div');\n",
              "        docLink.innerHTML = docLinkHtml;\n",
              "        element.appendChild(docLink);\n",
              "      }\n",
              "    </script>\n",
              "  </div>\n",
              "\n",
              "\n",
              "<div id=\"df-2c38c749-c717-4887-ad8b-1880392e3dbf\">\n",
              "  <button class=\"colab-df-quickchart\" onclick=\"quickchart('df-2c38c749-c717-4887-ad8b-1880392e3dbf')\"\n",
              "            title=\"Suggest charts.\"\n",
              "            style=\"display:none;\">\n",
              "\n",
              "<svg xmlns=\"http://www.w3.org/2000/svg\" height=\"24px\"viewBox=\"0 0 24 24\"\n",
              "     width=\"24px\">\n",
              "    <g>\n",
              "        <path d=\"M19 3H5c-1.1 0-2 .9-2 2v14c0 1.1.9 2 2 2h14c1.1 0 2-.9 2-2V5c0-1.1-.9-2-2-2zM9 17H7v-7h2v7zm4 0h-2V7h2v10zm4 0h-2v-4h2v4z\"/>\n",
              "    </g>\n",
              "</svg>\n",
              "  </button>\n",
              "\n",
              "<style>\n",
              "  .colab-df-quickchart {\n",
              "      --bg-color: #E8F0FE;\n",
              "      --fill-color: #1967D2;\n",
              "      --hover-bg-color: #E2EBFA;\n",
              "      --hover-fill-color: #174EA6;\n",
              "      --disabled-fill-color: #AAA;\n",
              "      --disabled-bg-color: #DDD;\n",
              "  }\n",
              "\n",
              "  [theme=dark] .colab-df-quickchart {\n",
              "      --bg-color: #3B4455;\n",
              "      --fill-color: #D2E3FC;\n",
              "      --hover-bg-color: #434B5C;\n",
              "      --hover-fill-color: #FFFFFF;\n",
              "      --disabled-bg-color: #3B4455;\n",
              "      --disabled-fill-color: #666;\n",
              "  }\n",
              "\n",
              "  .colab-df-quickchart {\n",
              "    background-color: var(--bg-color);\n",
              "    border: none;\n",
              "    border-radius: 50%;\n",
              "    cursor: pointer;\n",
              "    display: none;\n",
              "    fill: var(--fill-color);\n",
              "    height: 32px;\n",
              "    padding: 0;\n",
              "    width: 32px;\n",
              "  }\n",
              "\n",
              "  .colab-df-quickchart:hover {\n",
              "    background-color: var(--hover-bg-color);\n",
              "    box-shadow: 0 1px 2px rgba(60, 64, 67, 0.3), 0 1px 3px 1px rgba(60, 64, 67, 0.15);\n",
              "    fill: var(--button-hover-fill-color);\n",
              "  }\n",
              "\n",
              "  .colab-df-quickchart-complete:disabled,\n",
              "  .colab-df-quickchart-complete:disabled:hover {\n",
              "    background-color: var(--disabled-bg-color);\n",
              "    fill: var(--disabled-fill-color);\n",
              "    box-shadow: none;\n",
              "  }\n",
              "\n",
              "  .colab-df-spinner {\n",
              "    border: 2px solid var(--fill-color);\n",
              "    border-color: transparent;\n",
              "    border-bottom-color: var(--fill-color);\n",
              "    animation:\n",
              "      spin 1s steps(1) infinite;\n",
              "  }\n",
              "\n",
              "  @keyframes spin {\n",
              "    0% {\n",
              "      border-color: transparent;\n",
              "      border-bottom-color: var(--fill-color);\n",
              "      border-left-color: var(--fill-color);\n",
              "    }\n",
              "    20% {\n",
              "      border-color: transparent;\n",
              "      border-left-color: var(--fill-color);\n",
              "      border-top-color: var(--fill-color);\n",
              "    }\n",
              "    30% {\n",
              "      border-color: transparent;\n",
              "      border-left-color: var(--fill-color);\n",
              "      border-top-color: var(--fill-color);\n",
              "      border-right-color: var(--fill-color);\n",
              "    }\n",
              "    40% {\n",
              "      border-color: transparent;\n",
              "      border-right-color: var(--fill-color);\n",
              "      border-top-color: var(--fill-color);\n",
              "    }\n",
              "    60% {\n",
              "      border-color: transparent;\n",
              "      border-right-color: var(--fill-color);\n",
              "    }\n",
              "    80% {\n",
              "      border-color: transparent;\n",
              "      border-right-color: var(--fill-color);\n",
              "      border-bottom-color: var(--fill-color);\n",
              "    }\n",
              "    90% {\n",
              "      border-color: transparent;\n",
              "      border-bottom-color: var(--fill-color);\n",
              "    }\n",
              "  }\n",
              "</style>\n",
              "\n",
              "  <script>\n",
              "    async function quickchart(key) {\n",
              "      const quickchartButtonEl =\n",
              "        document.querySelector('#' + key + ' button');\n",
              "      quickchartButtonEl.disabled = true;  // To prevent multiple clicks.\n",
              "      quickchartButtonEl.classList.add('colab-df-spinner');\n",
              "      try {\n",
              "        const charts = await google.colab.kernel.invokeFunction(\n",
              "            'suggestCharts', [key], {});\n",
              "      } catch (error) {\n",
              "        console.error('Error during call to suggestCharts:', error);\n",
              "      }\n",
              "      quickchartButtonEl.classList.remove('colab-df-spinner');\n",
              "      quickchartButtonEl.classList.add('colab-df-quickchart-complete');\n",
              "    }\n",
              "    (() => {\n",
              "      let quickchartButtonEl =\n",
              "        document.querySelector('#df-2c38c749-c717-4887-ad8b-1880392e3dbf button');\n",
              "      quickchartButtonEl.style.display =\n",
              "        google.colab.kernel.accessAllowed ? 'block' : 'none';\n",
              "    })();\n",
              "  </script>\n",
              "</div>\n",
              "    </div>\n",
              "  </div>\n"
            ]
          },
          "metadata": {},
          "execution_count": 2
        }
      ]
    },
    {
      "cell_type": "code",
      "source": [
        "# histogram\n",
        "my_df7[\"Wed\"].hist()"
      ],
      "metadata": {
        "id": "3kWkxqAjeF0Y"
      },
      "execution_count": null,
      "outputs": []
    },
    {
      "cell_type": "code",
      "source": [
        "my_df7[\"Wed\"].hist(bins=20)"
      ],
      "metadata": {
        "id": "enOgcW2QeQbH"
      },
      "execution_count": null,
      "outputs": []
    },
    {
      "cell_type": "code",
      "source": [
        "my_df7[\"Wed\"].plot(kind=\"hist\",bins=20)"
      ],
      "metadata": {
        "id": "QB0yNKh0eZY8"
      },
      "execution_count": null,
      "outputs": []
    },
    {
      "cell_type": "code",
      "source": [
        "my_df7[\"Wed\"].hist(bins=20,grid=False,legend=True)"
      ],
      "metadata": {
        "id": "d0xaV9GkemqN"
      },
      "execution_count": null,
      "outputs": []
    },
    {
      "cell_type": "markdown",
      "source": [
        "# ***Plot2***"
      ],
      "metadata": {
        "id": "8ia_3tbefrGb"
      }
    },
    {
      "cell_type": "code",
      "source": [
        "my_df7.abs().plot(kind=\"area\")"
      ],
      "metadata": {
        "id": "z0inFsU0fG98"
      },
      "execution_count": null,
      "outputs": []
    },
    {
      "cell_type": "code",
      "source": [
        "my_df7.abs().plot(kind=\"area\",alpha=0.5)"
      ],
      "metadata": {
        "id": "Ff4TZZlrk2Qo"
      },
      "execution_count": null,
      "outputs": []
    },
    {
      "cell_type": "code",
      "source": [
        "# title\n",
        "my_df7.abs().plot(kind=\"area\",alpha=0.5,title=\"Awesome area\")"
      ],
      "metadata": {
        "id": "kaFbGhfmlLQs"
      },
      "execution_count": null,
      "outputs": []
    },
    {
      "cell_type": "code",
      "source": [
        "# Legend\n",
        "my_df7.abs().plot(kind=\"area\",alpha=0.5,title=\"Awesome area\",legend= False)"
      ],
      "metadata": {
        "id": "1tyW4U6kle3H"
      },
      "execution_count": null,
      "outputs": []
    },
    {
      "cell_type": "code",
      "source": [
        "# plot one c\n",
        "# Legend\n",
        "my_df7[\"Mon\"].abs().plot(kind=\"area\",alpha=0.5,title=\"Awesome area\",legend= False)"
      ],
      "metadata": {
        "id": "nDqceikklr8b"
      },
      "execution_count": null,
      "outputs": []
    },
    {
      "cell_type": "code",
      "source": [
        "# plot 2 col\n",
        "# Legend\n",
        "my_df7[[\"Mon\",\"Tues\",\"Wed\"]].abs().plot(kind=\"area\",alpha=0.5,title=\"Awesome area\",legend= False)"
      ],
      "metadata": {
        "id": "IVJE4wjAl_L1"
      },
      "execution_count": null,
      "outputs": []
    },
    {
      "cell_type": "code",
      "source": [
        "# Legend\n",
        "my_df7[[\"Mon\",\"Thur\"]].abs().plot(kind=\"area\",alpha=0.5,title=\"Awesome area\",legend= False)\n"
      ],
      "metadata": {
        "id": "MUnqVzqbmHlu"
      },
      "execution_count": null,
      "outputs": []
    },
    {
      "cell_type": "code",
      "source": [
        "# Add Table\n",
        "my_df7.abs().plot(kind=\"area\",alpha=0.5,title=\"Awesome area\",legend= False,table=True)\n"
      ],
      "metadata": {
        "id": "A07vYDvonLjM"
      },
      "execution_count": null,
      "outputs": []
    },
    {
      "cell_type": "markdown",
      "source": [
        "# ***Bar Charts***"
      ],
      "metadata": {
        "id": "IGhtmoDUSvGD"
      }
    },
    {
      "cell_type": "code",
      "source": [
        "# bar plot\n",
        "my_df7.abs().plot(kind=\"bar\")"
      ],
      "metadata": {
        "id": "-grLPXxdnZ60"
      },
      "execution_count": null,
      "outputs": []
    },
    {
      "cell_type": "code",
      "source": [
        "my_df7.abs().plot(kind=\"bar\",stacked=True)"
      ],
      "metadata": {
        "id": "CKQNC2vvTDZE"
      },
      "execution_count": null,
      "outputs": []
    },
    {
      "cell_type": "code",
      "source": [
        "my_df7.abs().plot(kind=\"bar\",stacked=True,alpha=0.5)"
      ],
      "metadata": {
        "id": "82szlu4-Tpo5"
      },
      "execution_count": null,
      "outputs": []
    },
    {
      "cell_type": "code",
      "source": [
        "my_df7.abs().plot(kind=\"bar\",stacked=True,title=\"My Awesome Bar Chart\")"
      ],
      "metadata": {
        "id": "TkGqoB97T1uB"
      },
      "execution_count": null,
      "outputs": []
    },
    {
      "cell_type": "code",
      "source": [
        "my_df7.abs().plot.bar(stacked=True,alpha=0.7,title=\"Bar\")"
      ],
      "metadata": {
        "id": "xgT9nhaiT8QP"
      },
      "execution_count": null,
      "outputs": []
    },
    {
      "cell_type": "markdown",
      "source": [
        "# ***Line ***"
      ],
      "metadata": {
        "id": "w10KkTkyV12s"
      }
    },
    {
      "cell_type": "code",
      "source": [
        "my_df7.abs().plot(kind=\"line\",stacked=True,title=\"My Awesome Line Chart\")"
      ],
      "metadata": {
        "id": "FIje5RzsUjZu"
      },
      "execution_count": null,
      "outputs": []
    },
    {
      "cell_type": "code",
      "source": [
        "# line width\n",
        "my_df7.abs().plot(kind=\"line\",stacked=True,lw=5,title=\"My Awesome Line Chart\")"
      ],
      "metadata": {
        "id": "1yASGlY8VjOk"
      },
      "execution_count": null,
      "outputs": []
    },
    {
      "cell_type": "code",
      "source": [
        "# one data one line\n",
        "my_df7[\"Mon\"].abs().plot(kind=\"line\",stacked=True,title=\"My Awesome Line Chart\")"
      ],
      "metadata": {
        "id": "pcWvb-r1VwOF"
      },
      "execution_count": null,
      "outputs": []
    },
    {
      "cell_type": "code",
      "source": [
        "# many data\n",
        "my_df7[[\"Mon\",\"Tues\"]].abs().plot(kind=\"line\",stacked=True,title=\"My Awesome Line Chart\")"
      ],
      "metadata": {
        "id": "zTWJVSInWBBN"
      },
      "execution_count": null,
      "outputs": []
    },
    {
      "cell_type": "code",
      "source": [
        "# size\n",
        "my_df7[[\"Mon\",\"Tues\"]].abs().plot(kind=\"line\",figsize=(10,5),title=\"My Awesome Line Chart\")"
      ],
      "metadata": {
        "id": "M1u4DwrLWVnc"
      },
      "execution_count": null,
      "outputs": []
    },
    {
      "cell_type": "code",
      "source": [
        "# alternate\n",
        "my_df7.plot.line()"
      ],
      "metadata": {
        "id": "IUhltzxGWukE"
      },
      "execution_count": null,
      "outputs": []
    },
    {
      "cell_type": "markdown",
      "source": [
        "# ***Scatter***"
      ],
      "metadata": {
        "id": "BhSTQFAsituX"
      }
    },
    {
      "cell_type": "code",
      "source": [
        "my_df7.plot(kind=\"scatter\",x=\"Mon\",y=\"Tues\",c=\"Wed\")"
      ],
      "metadata": {
        "id": "rpMO8FPVXFaO"
      },
      "execution_count": null,
      "outputs": []
    },
    {
      "cell_type": "code",
      "source": [
        "my_df7.plot(kind=\"scatter\",x=\"Mon\",y=\"Tues\",c=\"Wed\",cmap=\"magma\")"
      ],
      "metadata": {
        "id": "jaWW42aukFXJ"
      },
      "execution_count": null,
      "outputs": []
    },
    {
      "cell_type": "code",
      "source": [
        "# by size\n",
        "my_df7.plot(kind=\"scatter\",x=\"Mon\",y=\"Tues\",s=my_df7[\"Wed\"]*100)"
      ],
      "metadata": {
        "id": "kPTuocXUkMlI"
      },
      "execution_count": null,
      "outputs": []
    },
    {
      "cell_type": "code",
      "source": [
        "my_df7.plot(kind=\"scatter\",x=\"Mon\",y=\"Tues\",s=my_df7[\"Wed\"]*100,alpha=0.4)"
      ],
      "metadata": {
        "id": "f6i7Auebkv1Q"
      },
      "execution_count": null,
      "outputs": []
    },
    {
      "cell_type": "markdown",
      "source": [
        "# ***Box Plot***"
      ],
      "metadata": {
        "id": "eLisHOyolNBx"
      }
    },
    {
      "cell_type": "code",
      "source": [
        "my_df7.plot(kind=\"box\")"
      ],
      "metadata": {
        "id": "LVqg-DTklIqE"
      },
      "execution_count": null,
      "outputs": []
    },
    {
      "cell_type": "code",
      "source": [
        "my_df7.plot(kind=\"box\",figsize=(10,5))"
      ],
      "metadata": {
        "id": "J7DBwslqlwkN"
      },
      "execution_count": null,
      "outputs": []
    },
    {
      "cell_type": "code",
      "source": [
        "# change color\n",
        "my_df7.plot(kind=\"box\",cmap=\"jet\")"
      ],
      "metadata": {
        "id": "-Jek_hnkl9aE"
      },
      "execution_count": null,
      "outputs": []
    },
    {
      "cell_type": "code",
      "source": [
        "my_df7.plot(kind=\"box\",legend=True)"
      ],
      "metadata": {
        "id": "uvvjAitGmDDg"
      },
      "execution_count": null,
      "outputs": []
    },
    {
      "cell_type": "code",
      "source": [
        "my_df7.plot.box(grid=True)"
      ],
      "metadata": {
        "id": "nf1zJ7h-mVqQ"
      },
      "execution_count": null,
      "outputs": []
    },
    {
      "cell_type": "markdown",
      "source": [
        "# ***plots2 Hex plot***"
      ],
      "metadata": {
        "id": "xVvyp0Gbm81v"
      }
    },
    {
      "cell_type": "code",
      "source": [
        "my_df7.plot(kind=\"hexbin\",x=\"Mon\",y=\"Wed\")"
      ],
      "metadata": {
        "id": "0kzuBbHGmkUe"
      },
      "execution_count": null,
      "outputs": []
    },
    {
      "cell_type": "code",
      "source": [
        "my_df7.plot(kind=\"hexbin\",x=\"Mon\",y=\"Wed\",gridsize=10)"
      ],
      "metadata": {
        "id": "XHivfEwGnFOo"
      },
      "execution_count": null,
      "outputs": []
    },
    {
      "cell_type": "code",
      "source": [
        "# change color cmap\n",
        "# title\n",
        "# grid\n",
        "my_df7.plot.hexbin(x=\"Mon\",y=\"Wed\",C=\"Tues\",gridsize=10)\n"
      ],
      "metadata": {
        "id": "BLsTz_wQnet8"
      },
      "execution_count": null,
      "outputs": []
    },
    {
      "cell_type": "markdown",
      "source": [
        "# ***Density Plot***"
      ],
      "metadata": {
        "id": "sGUCG3A1uXMG"
      }
    },
    {
      "cell_type": "code",
      "source": [
        "my_df7"
      ],
      "metadata": {
        "id": "EAB9CXDGoDeh"
      },
      "execution_count": null,
      "outputs": []
    },
    {
      "cell_type": "code",
      "source": [
        "my_df7.plot(kind=\"kde\")"
      ],
      "metadata": {
        "id": "ATi7gR7du5UH"
      },
      "execution_count": null,
      "outputs": []
    },
    {
      "cell_type": "code",
      "source": [
        "my_df7.plot.kde( )\n",
        "# alternate"
      ],
      "metadata": {
        "id": "dKChfOxrvDWz"
      },
      "execution_count": null,
      "outputs": []
    },
    {
      "cell_type": "code",
      "source": [
        "# density plot\n",
        "my_df7.plot.density()\n",
        "# use alpha,lw to make thick,add title"
      ],
      "metadata": {
        "id": "yURjyPWovZZ2"
      },
      "execution_count": null,
      "outputs": []
    },
    {
      "cell_type": "code",
      "source": [
        "my_df7[\"Tues\"].plot.kde(title=\"hola\")"
      ],
      "metadata": {
        "id": "LMtIKpNZv2xl"
      },
      "execution_count": null,
      "outputs": []
    },
    {
      "cell_type": "markdown",
      "source": [
        "# ***linereg***"
      ],
      "metadata": {
        "id": "ebusVLMhwd3g"
      }
    },
    {
      "cell_type": "code",
      "source": [
        "diabetes=load_diabetes()\n",
        "my_df8=pd.DataFrame(diabetes.data,columns=diabetes.feature_names)\n",
        "my_df8[\"target\"]=diabetes.target\n",
        "my_df8.head()"
      ],
      "metadata": {
        "colab": {
          "base_uri": "https://localhost:8080/",
          "height": 226
        },
        "id": "790MJOkfwYnZ",
        "outputId": "8f2e6b50-b052-4314-bb6f-5d5e848ee68f"
      },
      "execution_count": null,
      "outputs": [
        {
          "output_type": "execute_result",
          "data": {
            "text/plain": [
              "        age       sex       bmi        bp        s1        s2        s3  \\\n",
              "0  0.038076  0.050680  0.061696  0.021872 -0.044223 -0.034821 -0.043401   \n",
              "1 -0.001882 -0.044642 -0.051474 -0.026328 -0.008449 -0.019163  0.074412   \n",
              "2  0.085299  0.050680  0.044451 -0.005670 -0.045599 -0.034194 -0.032356   \n",
              "3 -0.089063 -0.044642 -0.011595 -0.036656  0.012191  0.024991 -0.036038   \n",
              "4  0.005383 -0.044642 -0.036385  0.021872  0.003935  0.015596  0.008142   \n",
              "\n",
              "         s4        s5        s6  target  \n",
              "0 -0.002592  0.019907 -0.017646   151.0  \n",
              "1 -0.039493 -0.068332 -0.092204    75.0  \n",
              "2 -0.002592  0.002861 -0.025930   141.0  \n",
              "3  0.034309  0.022688 -0.009362   206.0  \n",
              "4 -0.002592 -0.031988 -0.046641   135.0  "
            ],
            "text/html": [
              "\n",
              "  <div id=\"df-3e4df1e1-c1c5-4678-8957-30509877b71a\" class=\"colab-df-container\">\n",
              "    <div>\n",
              "<style scoped>\n",
              "    .dataframe tbody tr th:only-of-type {\n",
              "        vertical-align: middle;\n",
              "    }\n",
              "\n",
              "    .dataframe tbody tr th {\n",
              "        vertical-align: top;\n",
              "    }\n",
              "\n",
              "    .dataframe thead th {\n",
              "        text-align: right;\n",
              "    }\n",
              "</style>\n",
              "<table border=\"1\" class=\"dataframe\">\n",
              "  <thead>\n",
              "    <tr style=\"text-align: right;\">\n",
              "      <th></th>\n",
              "      <th>age</th>\n",
              "      <th>sex</th>\n",
              "      <th>bmi</th>\n",
              "      <th>bp</th>\n",
              "      <th>s1</th>\n",
              "      <th>s2</th>\n",
              "      <th>s3</th>\n",
              "      <th>s4</th>\n",
              "      <th>s5</th>\n",
              "      <th>s6</th>\n",
              "      <th>target</th>\n",
              "    </tr>\n",
              "  </thead>\n",
              "  <tbody>\n",
              "    <tr>\n",
              "      <th>0</th>\n",
              "      <td>0.038076</td>\n",
              "      <td>0.050680</td>\n",
              "      <td>0.061696</td>\n",
              "      <td>0.021872</td>\n",
              "      <td>-0.044223</td>\n",
              "      <td>-0.034821</td>\n",
              "      <td>-0.043401</td>\n",
              "      <td>-0.002592</td>\n",
              "      <td>0.019907</td>\n",
              "      <td>-0.017646</td>\n",
              "      <td>151.0</td>\n",
              "    </tr>\n",
              "    <tr>\n",
              "      <th>1</th>\n",
              "      <td>-0.001882</td>\n",
              "      <td>-0.044642</td>\n",
              "      <td>-0.051474</td>\n",
              "      <td>-0.026328</td>\n",
              "      <td>-0.008449</td>\n",
              "      <td>-0.019163</td>\n",
              "      <td>0.074412</td>\n",
              "      <td>-0.039493</td>\n",
              "      <td>-0.068332</td>\n",
              "      <td>-0.092204</td>\n",
              "      <td>75.0</td>\n",
              "    </tr>\n",
              "    <tr>\n",
              "      <th>2</th>\n",
              "      <td>0.085299</td>\n",
              "      <td>0.050680</td>\n",
              "      <td>0.044451</td>\n",
              "      <td>-0.005670</td>\n",
              "      <td>-0.045599</td>\n",
              "      <td>-0.034194</td>\n",
              "      <td>-0.032356</td>\n",
              "      <td>-0.002592</td>\n",
              "      <td>0.002861</td>\n",
              "      <td>-0.025930</td>\n",
              "      <td>141.0</td>\n",
              "    </tr>\n",
              "    <tr>\n",
              "      <th>3</th>\n",
              "      <td>-0.089063</td>\n",
              "      <td>-0.044642</td>\n",
              "      <td>-0.011595</td>\n",
              "      <td>-0.036656</td>\n",
              "      <td>0.012191</td>\n",
              "      <td>0.024991</td>\n",
              "      <td>-0.036038</td>\n",
              "      <td>0.034309</td>\n",
              "      <td>0.022688</td>\n",
              "      <td>-0.009362</td>\n",
              "      <td>206.0</td>\n",
              "    </tr>\n",
              "    <tr>\n",
              "      <th>4</th>\n",
              "      <td>0.005383</td>\n",
              "      <td>-0.044642</td>\n",
              "      <td>-0.036385</td>\n",
              "      <td>0.021872</td>\n",
              "      <td>0.003935</td>\n",
              "      <td>0.015596</td>\n",
              "      <td>0.008142</td>\n",
              "      <td>-0.002592</td>\n",
              "      <td>-0.031988</td>\n",
              "      <td>-0.046641</td>\n",
              "      <td>135.0</td>\n",
              "    </tr>\n",
              "  </tbody>\n",
              "</table>\n",
              "</div>\n",
              "    <div class=\"colab-df-buttons\">\n",
              "\n",
              "  <div class=\"colab-df-container\">\n",
              "    <button class=\"colab-df-convert\" onclick=\"convertToInteractive('df-3e4df1e1-c1c5-4678-8957-30509877b71a')\"\n",
              "            title=\"Convert this dataframe to an interactive table.\"\n",
              "            style=\"display:none;\">\n",
              "\n",
              "  <svg xmlns=\"http://www.w3.org/2000/svg\" height=\"24px\" viewBox=\"0 -960 960 960\">\n",
              "    <path d=\"M120-120v-720h720v720H120Zm60-500h600v-160H180v160Zm220 220h160v-160H400v160Zm0 220h160v-160H400v160ZM180-400h160v-160H180v160Zm440 0h160v-160H620v160ZM180-180h160v-160H180v160Zm440 0h160v-160H620v160Z\"/>\n",
              "  </svg>\n",
              "    </button>\n",
              "\n",
              "  <style>\n",
              "    .colab-df-container {\n",
              "      display:flex;\n",
              "      gap: 12px;\n",
              "    }\n",
              "\n",
              "    .colab-df-convert {\n",
              "      background-color: #E8F0FE;\n",
              "      border: none;\n",
              "      border-radius: 50%;\n",
              "      cursor: pointer;\n",
              "      display: none;\n",
              "      fill: #1967D2;\n",
              "      height: 32px;\n",
              "      padding: 0 0 0 0;\n",
              "      width: 32px;\n",
              "    }\n",
              "\n",
              "    .colab-df-convert:hover {\n",
              "      background-color: #E2EBFA;\n",
              "      box-shadow: 0px 1px 2px rgba(60, 64, 67, 0.3), 0px 1px 3px 1px rgba(60, 64, 67, 0.15);\n",
              "      fill: #174EA6;\n",
              "    }\n",
              "\n",
              "    .colab-df-buttons div {\n",
              "      margin-bottom: 4px;\n",
              "    }\n",
              "\n",
              "    [theme=dark] .colab-df-convert {\n",
              "      background-color: #3B4455;\n",
              "      fill: #D2E3FC;\n",
              "    }\n",
              "\n",
              "    [theme=dark] .colab-df-convert:hover {\n",
              "      background-color: #434B5C;\n",
              "      box-shadow: 0px 1px 3px 1px rgba(0, 0, 0, 0.15);\n",
              "      filter: drop-shadow(0px 1px 2px rgba(0, 0, 0, 0.3));\n",
              "      fill: #FFFFFF;\n",
              "    }\n",
              "  </style>\n",
              "\n",
              "    <script>\n",
              "      const buttonEl =\n",
              "        document.querySelector('#df-3e4df1e1-c1c5-4678-8957-30509877b71a button.colab-df-convert');\n",
              "      buttonEl.style.display =\n",
              "        google.colab.kernel.accessAllowed ? 'block' : 'none';\n",
              "\n",
              "      async function convertToInteractive(key) {\n",
              "        const element = document.querySelector('#df-3e4df1e1-c1c5-4678-8957-30509877b71a');\n",
              "        const dataTable =\n",
              "          await google.colab.kernel.invokeFunction('convertToInteractive',\n",
              "                                                    [key], {});\n",
              "        if (!dataTable) return;\n",
              "\n",
              "        const docLinkHtml = 'Like what you see? Visit the ' +\n",
              "          '<a target=\"_blank\" href=https://colab.research.google.com/notebooks/data_table.ipynb>data table notebook</a>'\n",
              "          + ' to learn more about interactive tables.';\n",
              "        element.innerHTML = '';\n",
              "        dataTable['output_type'] = 'display_data';\n",
              "        await google.colab.output.renderOutput(dataTable, element);\n",
              "        const docLink = document.createElement('div');\n",
              "        docLink.innerHTML = docLinkHtml;\n",
              "        element.appendChild(docLink);\n",
              "      }\n",
              "    </script>\n",
              "  </div>\n",
              "\n",
              "\n",
              "<div id=\"df-2c908517-f391-461b-9427-80af1e9e0c9e\">\n",
              "  <button class=\"colab-df-quickchart\" onclick=\"quickchart('df-2c908517-f391-461b-9427-80af1e9e0c9e')\"\n",
              "            title=\"Suggest charts.\"\n",
              "            style=\"display:none;\">\n",
              "\n",
              "<svg xmlns=\"http://www.w3.org/2000/svg\" height=\"24px\"viewBox=\"0 0 24 24\"\n",
              "     width=\"24px\">\n",
              "    <g>\n",
              "        <path d=\"M19 3H5c-1.1 0-2 .9-2 2v14c0 1.1.9 2 2 2h14c1.1 0 2-.9 2-2V5c0-1.1-.9-2-2-2zM9 17H7v-7h2v7zm4 0h-2V7h2v10zm4 0h-2v-4h2v4z\"/>\n",
              "    </g>\n",
              "</svg>\n",
              "  </button>\n",
              "\n",
              "<style>\n",
              "  .colab-df-quickchart {\n",
              "      --bg-color: #E8F0FE;\n",
              "      --fill-color: #1967D2;\n",
              "      --hover-bg-color: #E2EBFA;\n",
              "      --hover-fill-color: #174EA6;\n",
              "      --disabled-fill-color: #AAA;\n",
              "      --disabled-bg-color: #DDD;\n",
              "  }\n",
              "\n",
              "  [theme=dark] .colab-df-quickchart {\n",
              "      --bg-color: #3B4455;\n",
              "      --fill-color: #D2E3FC;\n",
              "      --hover-bg-color: #434B5C;\n",
              "      --hover-fill-color: #FFFFFF;\n",
              "      --disabled-bg-color: #3B4455;\n",
              "      --disabled-fill-color: #666;\n",
              "  }\n",
              "\n",
              "  .colab-df-quickchart {\n",
              "    background-color: var(--bg-color);\n",
              "    border: none;\n",
              "    border-radius: 50%;\n",
              "    cursor: pointer;\n",
              "    display: none;\n",
              "    fill: var(--fill-color);\n",
              "    height: 32px;\n",
              "    padding: 0;\n",
              "    width: 32px;\n",
              "  }\n",
              "\n",
              "  .colab-df-quickchart:hover {\n",
              "    background-color: var(--hover-bg-color);\n",
              "    box-shadow: 0 1px 2px rgba(60, 64, 67, 0.3), 0 1px 3px 1px rgba(60, 64, 67, 0.15);\n",
              "    fill: var(--button-hover-fill-color);\n",
              "  }\n",
              "\n",
              "  .colab-df-quickchart-complete:disabled,\n",
              "  .colab-df-quickchart-complete:disabled:hover {\n",
              "    background-color: var(--disabled-bg-color);\n",
              "    fill: var(--disabled-fill-color);\n",
              "    box-shadow: none;\n",
              "  }\n",
              "\n",
              "  .colab-df-spinner {\n",
              "    border: 2px solid var(--fill-color);\n",
              "    border-color: transparent;\n",
              "    border-bottom-color: var(--fill-color);\n",
              "    animation:\n",
              "      spin 1s steps(1) infinite;\n",
              "  }\n",
              "\n",
              "  @keyframes spin {\n",
              "    0% {\n",
              "      border-color: transparent;\n",
              "      border-bottom-color: var(--fill-color);\n",
              "      border-left-color: var(--fill-color);\n",
              "    }\n",
              "    20% {\n",
              "      border-color: transparent;\n",
              "      border-left-color: var(--fill-color);\n",
              "      border-top-color: var(--fill-color);\n",
              "    }\n",
              "    30% {\n",
              "      border-color: transparent;\n",
              "      border-left-color: var(--fill-color);\n",
              "      border-top-color: var(--fill-color);\n",
              "      border-right-color: var(--fill-color);\n",
              "    }\n",
              "    40% {\n",
              "      border-color: transparent;\n",
              "      border-right-color: var(--fill-color);\n",
              "      border-top-color: var(--fill-color);\n",
              "    }\n",
              "    60% {\n",
              "      border-color: transparent;\n",
              "      border-right-color: var(--fill-color);\n",
              "    }\n",
              "    80% {\n",
              "      border-color: transparent;\n",
              "      border-right-color: var(--fill-color);\n",
              "      border-bottom-color: var(--fill-color);\n",
              "    }\n",
              "    90% {\n",
              "      border-color: transparent;\n",
              "      border-bottom-color: var(--fill-color);\n",
              "    }\n",
              "  }\n",
              "</style>\n",
              "\n",
              "  <script>\n",
              "    async function quickchart(key) {\n",
              "      const quickchartButtonEl =\n",
              "        document.querySelector('#' + key + ' button');\n",
              "      quickchartButtonEl.disabled = true;  // To prevent multiple clicks.\n",
              "      quickchartButtonEl.classList.add('colab-df-spinner');\n",
              "      try {\n",
              "        const charts = await google.colab.kernel.invokeFunction(\n",
              "            'suggestCharts', [key], {});\n",
              "      } catch (error) {\n",
              "        console.error('Error during call to suggestCharts:', error);\n",
              "      }\n",
              "      quickchartButtonEl.classList.remove('colab-df-spinner');\n",
              "      quickchartButtonEl.classList.add('colab-df-quickchart-complete');\n",
              "    }\n",
              "    (() => {\n",
              "      let quickchartButtonEl =\n",
              "        document.querySelector('#df-2c908517-f391-461b-9427-80af1e9e0c9e button');\n",
              "      quickchartButtonEl.style.display =\n",
              "        google.colab.kernel.accessAllowed ? 'block' : 'none';\n",
              "    })();\n",
              "  </script>\n",
              "</div>\n",
              "    </div>\n",
              "  </div>\n"
            ]
          },
          "metadata": {},
          "execution_count": 29
        }
      ]
    },
    {
      "cell_type": "code",
      "source": [
        "# split data x,y\n",
        "X=my_df8.drop(\"target\",axis=1)\n",
        "y=my_df8[\"target\"]\n",
        "X.shape,y.shape"
      ],
      "metadata": {
        "id": "o6hBlrIZynqZ",
        "colab": {
          "base_uri": "https://localhost:8080/"
        },
        "outputId": "f2c5eb06-0725-4ddb-cd98-2d3e0c07b3b9"
      },
      "execution_count": null,
      "outputs": [
        {
          "output_type": "execute_result",
          "data": {
            "text/plain": [
              "((442, 10), (442,))"
            ]
          },
          "metadata": {},
          "execution_count": 30
        }
      ]
    },
    {
      "cell_type": "code",
      "source": [
        "from sklearn.model_selection import train_test_split\n",
        "# split data in train,test\n",
        "X_train,X_test,y_train,y_test=train_test_split(X,y,test_size=0.2,random_state=42)\n",
        "# print train test split\n",
        "print(\"Training set shape:\",X_train.shape,y_train.shape)\n",
        "print(\"Testing set shape:\",X_test.shape,y_test.shape)"
      ],
      "metadata": {
        "colab": {
          "base_uri": "https://localhost:8080/"
        },
        "id": "IL_4Xw0y2nno",
        "outputId": "b73baf20-16d6-4358-bdcb-9cb60d22a840"
      },
      "execution_count": null,
      "outputs": [
        {
          "output_type": "stream",
          "name": "stdout",
          "text": [
            "Training set shape: (353, 10) (353,)\n",
            "Testing set shape: (89, 10) (89,)\n"
          ]
        }
      ]
    },
    {
      "cell_type": "code",
      "source": [
        "from sklearn.linear_model import LinearRegression\n",
        "# create lr\n",
        "lr=LinearRegression()\n"
      ],
      "metadata": {
        "id": "PwS4uP7b5U-r"
      },
      "execution_count": null,
      "outputs": []
    },
    {
      "cell_type": "code",
      "source": [
        "# train model on training set\n",
        "lr.fit(X_train,y_train)"
      ],
      "metadata": {
        "colab": {
          "base_uri": "https://localhost:8080/",
          "height": 74
        },
        "id": "FGLzlCDG6uak",
        "outputId": "359a6c40-3275-4eb9-b489-2dbbcc6be278"
      },
      "execution_count": null,
      "outputs": [
        {
          "output_type": "execute_result",
          "data": {
            "text/plain": [
              "LinearRegression()"
            ],
            "text/html": [
              "<style>#sk-container-id-3 {color: black;background-color: white;}#sk-container-id-3 pre{padding: 0;}#sk-container-id-3 div.sk-toggleable {background-color: white;}#sk-container-id-3 label.sk-toggleable__label {cursor: pointer;display: block;width: 100%;margin-bottom: 0;padding: 0.3em;box-sizing: border-box;text-align: center;}#sk-container-id-3 label.sk-toggleable__label-arrow:before {content: \"▸\";float: left;margin-right: 0.25em;color: #696969;}#sk-container-id-3 label.sk-toggleable__label-arrow:hover:before {color: black;}#sk-container-id-3 div.sk-estimator:hover label.sk-toggleable__label-arrow:before {color: black;}#sk-container-id-3 div.sk-toggleable__content {max-height: 0;max-width: 0;overflow: hidden;text-align: left;background-color: #f0f8ff;}#sk-container-id-3 div.sk-toggleable__content pre {margin: 0.2em;color: black;border-radius: 0.25em;background-color: #f0f8ff;}#sk-container-id-3 input.sk-toggleable__control:checked~div.sk-toggleable__content {max-height: 200px;max-width: 100%;overflow: auto;}#sk-container-id-3 input.sk-toggleable__control:checked~label.sk-toggleable__label-arrow:before {content: \"▾\";}#sk-container-id-3 div.sk-estimator input.sk-toggleable__control:checked~label.sk-toggleable__label {background-color: #d4ebff;}#sk-container-id-3 div.sk-label input.sk-toggleable__control:checked~label.sk-toggleable__label {background-color: #d4ebff;}#sk-container-id-3 input.sk-hidden--visually {border: 0;clip: rect(1px 1px 1px 1px);clip: rect(1px, 1px, 1px, 1px);height: 1px;margin: -1px;overflow: hidden;padding: 0;position: absolute;width: 1px;}#sk-container-id-3 div.sk-estimator {font-family: monospace;background-color: #f0f8ff;border: 1px dotted black;border-radius: 0.25em;box-sizing: border-box;margin-bottom: 0.5em;}#sk-container-id-3 div.sk-estimator:hover {background-color: #d4ebff;}#sk-container-id-3 div.sk-parallel-item::after {content: \"\";width: 100%;border-bottom: 1px solid gray;flex-grow: 1;}#sk-container-id-3 div.sk-label:hover label.sk-toggleable__label {background-color: #d4ebff;}#sk-container-id-3 div.sk-serial::before {content: \"\";position: absolute;border-left: 1px solid gray;box-sizing: border-box;top: 0;bottom: 0;left: 50%;z-index: 0;}#sk-container-id-3 div.sk-serial {display: flex;flex-direction: column;align-items: center;background-color: white;padding-right: 0.2em;padding-left: 0.2em;position: relative;}#sk-container-id-3 div.sk-item {position: relative;z-index: 1;}#sk-container-id-3 div.sk-parallel {display: flex;align-items: stretch;justify-content: center;background-color: white;position: relative;}#sk-container-id-3 div.sk-item::before, #sk-container-id-3 div.sk-parallel-item::before {content: \"\";position: absolute;border-left: 1px solid gray;box-sizing: border-box;top: 0;bottom: 0;left: 50%;z-index: -1;}#sk-container-id-3 div.sk-parallel-item {display: flex;flex-direction: column;z-index: 1;position: relative;background-color: white;}#sk-container-id-3 div.sk-parallel-item:first-child::after {align-self: flex-end;width: 50%;}#sk-container-id-3 div.sk-parallel-item:last-child::after {align-self: flex-start;width: 50%;}#sk-container-id-3 div.sk-parallel-item:only-child::after {width: 0;}#sk-container-id-3 div.sk-dashed-wrapped {border: 1px dashed gray;margin: 0 0.4em 0.5em 0.4em;box-sizing: border-box;padding-bottom: 0.4em;background-color: white;}#sk-container-id-3 div.sk-label label {font-family: monospace;font-weight: bold;display: inline-block;line-height: 1.2em;}#sk-container-id-3 div.sk-label-container {text-align: center;}#sk-container-id-3 div.sk-container {/* jupyter's `normalize.less` sets `[hidden] { display: none; }` but bootstrap.min.css set `[hidden] { display: none !important; }` so we also need the `!important` here to be able to override the default hidden behavior on the sphinx rendered scikit-learn.org. See: https://github.com/scikit-learn/scikit-learn/issues/21755 */display: inline-block !important;position: relative;}#sk-container-id-3 div.sk-text-repr-fallback {display: none;}</style><div id=\"sk-container-id-3\" class=\"sk-top-container\"><div class=\"sk-text-repr-fallback\"><pre>LinearRegression()</pre><b>In a Jupyter environment, please rerun this cell to show the HTML representation or trust the notebook. <br />On GitHub, the HTML representation is unable to render, please try loading this page with nbviewer.org.</b></div><div class=\"sk-container\" hidden><div class=\"sk-item\"><div class=\"sk-estimator sk-toggleable\"><input class=\"sk-toggleable__control sk-hidden--visually\" id=\"sk-estimator-id-3\" type=\"checkbox\" checked><label for=\"sk-estimator-id-3\" class=\"sk-toggleable__label sk-toggleable__label-arrow\">LinearRegression</label><div class=\"sk-toggleable__content\"><pre>LinearRegression()</pre></div></div></div></div></div>"
            ]
          },
          "metadata": {},
          "execution_count": 33
        }
      ]
    },
    {
      "cell_type": "code",
      "source": [
        "# Predict on the testing set\n",
        "# Y_preds are predicted values of the target variable based on the features\n",
        "# Once we have those preds, we can compare them to the actual values of the taget variable.\n",
        "# To evaluate the performance of the model.\n",
        "y_pred =lr.predict(X_test)\n",
        "y_pred.shape\n"
      ],
      "metadata": {
        "colab": {
          "base_uri": "https://localhost:8080/"
        },
        "id": "r7lZwB2q69wp",
        "outputId": "5c318564-0979-462d-8e36-6043e1804d19"
      },
      "execution_count": null,
      "outputs": [
        {
          "output_type": "execute_result",
          "data": {
            "text/plain": [
              "(89,)"
            ]
          },
          "metadata": {},
          "execution_count": 38
        }
      ]
    },
    {
      "cell_type": "code",
      "source": [
        "from sklearn.metrics import r2_score,mean_squared_error, mean_absolute_error\n",
        "# evaluate perf. model\n",
        "\n",
        "# R2: variance of the dependent variable (target) explained by the independent variables (features).\n",
        "# How well the model fits the data. Higher is better\n",
        "r2=r2_score(y_test,y_pred)\n",
        "\n",
        "# MSE: Average Squared distance between the predicted and actual values. Lower is bett\n",
        "mse=mean_squared_error(y_test,y_pred)\n",
        "# MAE: Average absolute distance between the predicted and actual values. Lower is be\n",
        "mae=mean_absolute_error(y_test,y_pred)\n",
        "# Intercept: starting point of the regression line on the y-axis.\n",
        "# Value of dependent variable (target) when the independent variables (features) are zero\n",
        "# If positive number, target increases as features increase, if negative - opposite.\n",
        "intercept=lr.intercept_\n",
        "\n",
        "print(\"R2 score: \", r2)\n",
        "print(\"Mean Squared Error: \", mse)\n",
        "print(\"Mean Absolute Error: \", mae)\n",
        "print(\"Intercept: \", intercept)"
      ],
      "metadata": {
        "colab": {
          "base_uri": "https://localhost:8080/"
        },
        "id": "_i4mAK_s71-U",
        "outputId": "45d17a62-697e-42c4-81b5-307ef1c571af"
      },
      "execution_count": null,
      "outputs": [
        {
          "output_type": "stream",
          "name": "stdout",
          "text": [
            "R2 score:  0.4526027629719195\n",
            "Mean Squared Error:  2900.193628493482\n",
            "Mean Absolute Error:  42.79409467959994\n",
            "Intercept:  151.34560453985995\n"
          ]
        }
      ]
    },
    {
      "cell_type": "code",
      "source": [
        "import matplotlib.pyplot as plt\n",
        "# plot predvs actual\n",
        "# predict on x\n",
        "# actual on y\n",
        "# If the model is a good fit, the points should be close to the diagonal line,\n",
        "# indicating a strong linear relationship between the actual and predicted values.\n",
        "plt.scatter(y_test,y_pred,alpha=0.5)\n",
        "plt.plot([y.min(),y.max()],[y.min(),y.max()],color=\"red\")\n",
        "plt.xlabel(\"Actual values\")\n",
        "plt.ylabel(\"Predicted values\")\n",
        "plt.title(\"Predicted vs. Actual Values (Linear Regression)\")\n",
        "plt.show()\n"
      ],
      "metadata": {
        "colab": {
          "base_uri": "https://localhost:8080/",
          "height": 472
        },
        "id": "zXC67NJs9BJT",
        "outputId": "87bee5c0-95aa-45e6-db0e-4e16b3d7fd05"
      },
      "execution_count": null,
      "outputs": [
        {
          "output_type": "display_data",
          "data": {
            "text/plain": [
              "<Figure size 640x480 with 1 Axes>"
            ],
            "image/png": "[encoded data removed]"
          },
          "metadata": {}
        }
      ]
    },
    {
      "cell_type": "code",
      "source": [
        "# plot residuals\n",
        "# The residuals are plotted against the predicted values of the target variable.\n",
        "# If the linear regression model is a good fit for the data,\n",
        "# the residual plot should show a random scatter of the points around zero\n",
        "# With no discernable trend.\n",
        "plt.scatter(y_pred,y_test-y_pred,alpha=0.5)\n",
        "plt.xlabel(\"Predicted values\")\n",
        "plt.ylabel(\"Residuals\")\n",
        "plt.title(\"Residual Plot (Linear Regresssion)\")\n",
        "plt.show()"
      ],
      "metadata": {
        "id": "wKP5dCRO-pfl",
        "colab": {
          "base_uri": "https://localhost:8080/",
          "height": 472
        },
        "outputId": "67cf0cf8-a0f3-4dcb-ee1e-d3c9e83d8f4e"
      },
      "execution_count": null,
      "outputs": [
        {
          "output_type": "display_data",
          "data": {
            "text/plain": [
              "<Figure size 640x480 with 1 Axes>"
            ],
            "image/png": "[encoded data removed]"
          },
          "metadata": {}
        }
      ]
    },
    {
      "cell_type": "code",
      "source": [],
      "metadata": {
        "id": "yl5Oj_oFKR3j"
      },
      "execution_count": null,
      "outputs": []
    }
  ]
}